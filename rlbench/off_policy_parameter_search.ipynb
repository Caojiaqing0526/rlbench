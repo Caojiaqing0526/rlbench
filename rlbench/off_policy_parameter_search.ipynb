{
 "cells": [
  {
   "cell_type": "code",
   "execution_count": 1,
   "metadata": {
    "collapsed": false
   },
   "outputs": [],
   "source": [
    "%load_ext autoreload\n",
    "%autoreload 2"
   ]
  },
  {
   "cell_type": "code",
   "execution_count": 2,
   "metadata": {
    "collapsed": false
   },
   "outputs": [],
   "source": [
    "%matplotlib inline\n",
    "import matplotlib as mpl\n",
    "import matplotlib.pyplot as plt\n",
    "import json\n",
    "import numpy as np\n",
    "import pandas as pd\n",
    "import toolz\n",
    "from itertools import product\n",
    "from toolz import pluck"
   ]
  },
  {
   "cell_type": "code",
   "execution_count": 3,
   "metadata": {
    "collapsed": true
   },
   "outputs": [],
   "source": [
    "import algos\n",
    "import features\n",
    "import parametric\n",
    "import policy\n",
    "import chicken\n",
    "from agents import OffPolicyAgent\n",
    "from rlbench import *\n",
    "from utils import *"
   ]
  },
  {
   "cell_type": "code",
   "execution_count": 4,
   "metadata": {
    "collapsed": true
   },
   "outputs": [],
   "source": [
    "class OffPolicyExperiment:\n",
    "    def __init__(self, algo, env, policy_pi, policy_mu):\n",
    "        self.algo = algo\n",
    "        self.env = env\n",
    "        self.pi = policy_pi\n",
    "        self.mu = policy_mu\n",
    "        \n",
    "    def _run_episode(self, max_steps, params=dict()):\n",
    "        ret = list()\n",
    "        \n",
    "        # reset the agent and the environment; perform the run\n",
    "        t = 0\n",
    "        self.agent.reset()\n",
    "        self.env.reset()\n",
    "        s = env.state\n",
    "        while not env.is_terminal() and t < max_steps:\n",
    "            actions = env.actions\n",
    "            a = self.agent.choose(s, actions)\n",
    "            r, sp = env.do(a)\n",
    "            \n",
    "            # update the agent\n",
    "            self.agent.update(s, a, r, sp, **params)\n",
    "            \n",
    "            # get the context at the timestep\n",
    "            ret.append(self.agent.get_context(s, a, r, sp))\n",
    "            \n",
    "            # prepare for next timestep\n",
    "            t += 1\n",
    "            s = sp\n",
    "            \n",
    "        # return the result\n",
    "        return ret\n",
    "    \n",
    "    def setup_agent(self, params=dict()):\n",
    "        self.phi = self.phi_cls(*self.phi_args, **self.phi_kwargs)\n",
    "        learner = self.algo(self.phi.length)\n",
    "        self.agent = OffPolicyAgent(learner, self.pi, self.mu, self.phi, params)\n",
    "        \n",
    "    def set_phi_class(self, phi_cls, *args, **kwargs):\n",
    "        self.phi_cls = phi_cls\n",
    "        self.phi_args = args\n",
    "        self.phi_kwargs = kwargs\n",
    "    \n",
    "    def run(self, num_runs, max_steps, params):\n",
    "        ret = []\n",
    "        for i in range(num_runs):\n",
    "            self.setup_agent(params=params)\n",
    "            episode_data = dict()\n",
    "            episode_data['features'] = {s: self.phi(s) for s in env.states}\n",
    "            episode_data['steps'] = self._run_episode(max_steps)\n",
    "            \n",
    "        \n",
    "            ret.append(episode_data)\n",
    "        return ret"
   ]
  },
  {
   "cell_type": "code",
   "execution_count": 5,
   "metadata": {
    "collapsed": true
   },
   "outputs": [],
   "source": [
    "def tail_errors(data, last=1):\n",
    "    errors = list()\n",
    "    for episode in data:\n",
    "        states = sorted(episode['features'].keys())\n",
    "        X = np.array([episode['features'][s] for s in states]) \n",
    "\n",
    "\n",
    "        steps = episode['steps'][-last:]\n",
    "        # compute the values for the tail end of the episode\n",
    "        thetas = [x['theta'] for x in steps]\n",
    "        values = [np.dot(X, theta) for theta in thetas]\n",
    "        errors.append([err_func(v) for v in values])\n",
    "\n",
    "    return np.array(errors)"
   ]
  },
  {
   "cell_type": "code",
   "execution_count": 6,
   "metadata": {
    "collapsed": true
   },
   "outputs": [],
   "source": [
    "def summarize(data, last=50):\n",
    "    errors = list()\n",
    "    for episode in data:\n",
    "        states = sorted(episode['features'].keys())\n",
    "        X = np.array([episode['features'][s] for s in states]) \n",
    "\n",
    "\n",
    "        steps = episode['steps'][-last:]\n",
    "        # compute the values for the tail end of the episode\n",
    "        thetas = [x['theta'] for x in steps]\n",
    "        values = [np.dot(X, theta) for theta in thetas]\n",
    "        errors.append([err_func(v) for v in values])\n",
    "\n",
    "    errors = pd.Series(np.mean(errors, axis=1))\n",
    "    ret = dict()\n",
    "    ret['min'] = errors.min()\n",
    "    ret['max'] = errors.max()\n",
    "    ret['std'] = errors.std()\n",
    "    ret['se'] = errors.sem()\n",
    "    ret['mean'] = errors.mean()\n",
    "    \n",
    "    return ret"
   ]
  },
  {
   "cell_type": "code",
   "execution_count": 7,
   "metadata": {
    "collapsed": true
   },
   "outputs": [],
   "source": [
    "def enumerate_params(param_cases):\n",
    "    names = list(param_cases.keys())\n",
    "    cases = product(*[param_cases[k] for k in names])\n",
    "    return [{k: v for k, v in zip(names, case)} for case in cases]"
   ]
  },
  {
   "cell_type": "markdown",
   "metadata": {},
   "source": [
    "# True Values\n",
    "\n",
    "The \"true\" values can be computed analytically in this case, so we did so.\n",
    "\n",
    "We can also compute the distribution for weighting the errors."
   ]
  },
  {
   "cell_type": "markdown",
   "metadata": {},
   "source": [
    "# Comparing the Errors\n",
    "\n",
    "For each algorithm, we get the associated experiment, and calculate the errors at each timestep, averaged over the runs performed with that algorithm."
   ]
  },
  {
   "cell_type": "code",
   "execution_count": 8,
   "metadata": {
    "collapsed": false
   },
   "outputs": [
    {
     "name": "stdout",
     "output_type": "stream",
     "text": [
      "True values:\n",
      "[ 0.4782969  0.531441   0.59049    0.6561     0.729      0.81       0.9        1.       ]\n",
      "On-policy distribution:\n",
      "[ 0.125  0.125  0.125  0.125  0.125  0.125  0.125  0.125]\n"
     ]
    }
   ],
   "source": [
    "# define the experiment\n",
    "max_steps = 20000\n",
    "num_runs = 150\n",
    "num_last = 100\n",
    "# define the environment\n",
    "num_states = 8\n",
    "# define the sort of feature function to use\n",
    "num_features = 6\n",
    "num_active = 3\n",
    "\n",
    "# Hackish way of defining true values & distribution, but valid here\n",
    "gamma = 0.9\n",
    "true_values = gamma**np.arange(num_states)[::-1]\n",
    "d_pi = np.ones(num_states)/num_states\n",
    "D_pi = np.diag(d_pi)\n",
    "print(\"True values:\")\n",
    "print(true_values)\n",
    "print(\"On-policy distribution:\")\n",
    "print(d_pi)\n",
    "\n",
    "# set up environment\n",
    "env = chicken.Chicken(num_states)\n",
    "\n",
    "# Define the target policy\n",
    "pol_pi = policy.FixedPolicy({s: {0: 1} for s in env.states})\n",
    "# Define the behavior policy\n",
    "pol_mu = policy.FixedPolicy({s: {0: 1} if s < 4 else {0: 0.5, 1: 0.5} for s in env.states})\n",
    "\n",
    "# state-dependent gamma\n",
    "gm_dct = {s: 0.9 for s in env.states}\n",
    "gm_dct[0] = 0\n",
    "gm_func = parametric.MapState(gm_dct)\n",
    "gm_p_func = parametric.MapNextState(gm_dct)\n",
    "\n",
    "# problem parameters\n",
    "problem_params = {\n",
    "    'gm': gm_func,\n",
    "    'gm_p': gm_p_func,\n",
    "    'interest': 1.0,\n",
    "}"
   ]
  },
  {
   "cell_type": "code",
   "execution_count": 9,
   "metadata": {
    "collapsed": true
   },
   "outputs": [],
   "source": [
    "# setup error function\n",
    "err_func = rmse_factory(true_values, d_pi)\n",
    "baseline = err_func(np.zeros(num_states))"
   ]
  },
  {
   "cell_type": "code",
   "execution_count": 10,
   "metadata": {
    "collapsed": false
   },
   "outputs": [
    {
     "name": "stdout",
     "output_type": "stream",
     "text": [
      "0.258840084292\n"
     ]
    }
   ],
   "source": [
    "print(baseline)"
   ]
  },
  {
   "cell_type": "markdown",
   "metadata": {},
   "source": [
    "# GTD"
   ]
  },
  {
   "cell_type": "code",
   "execution_count": 11,
   "metadata": {
    "collapsed": false
   },
   "outputs": [
    {
     "name": "stdout",
     "output_type": "stream",
     "text": [
      "Iterating over parameters...\n",
      "Minimum error:\n",
      "       alpha      beta       min       max      mean       std        se\n",
      "31  0.129155  0.001585  0.015273  0.296002  0.148298  0.062027  0.005065\n"
     ]
    }
   ],
   "source": [
    "# GTD\n",
    "fixed_params = {\n",
    "    'gm': gm_func,\n",
    "    'gm_p': gm_p_func,\n",
    "    'lm': 0.0,\n",
    "    'lm_p': 0.0,\n",
    "    'interest': 1.0,\n",
    "}\n",
    "\n",
    "param_grid = {\n",
    "    'alpha': np.logspace(-0.5, -4, 10),\n",
    "    'beta': np.logspace(-1, -4, 6),\n",
    "}\n",
    "\n",
    "cases = enumerate_params(param_grid)\n",
    "ncases = len(cases)\n",
    "experiment = OffPolicyExperiment(algos.GTD, env, pol_pi, pol_mu)\n",
    "experiment.set_phi_class(features.RandomBinary, num_features, num_active)\n",
    "\n",
    "df = pd.DataFrame(columns=['alpha', 'beta', 'min', 'max', 'mean', 'std', 'se'])\n",
    "\n",
    "\n",
    "print(\"Iterating over parameters...\")\n",
    "for ix, case in enumerate(cases):\n",
    "    print(\"Case #: {0:d} of {1:d}\".format(ix, ncases), end='\\r')\n",
    "#     print('alpha: {alpha:10.6} {beta:10.6}'.format(**case))\n",
    "    update_params = dict(**fixed_params, **case)\n",
    "    data = experiment.run(num_runs, max_steps, update_params)\n",
    "    \n",
    "    dct = dict()\n",
    "    dct.update(**case)\n",
    "    dct.update(**summarize(data, num_last))\n",
    "    \n",
    "    df = df.append(dct, ignore_index=True)\n",
    "    \n",
    "    # is it still learning?\n",
    "    avg_errors = np.mean(tail_errors(data, last=50), axis=0)\n",
    "    grad = avg_errors[1:] - avg_errors[0:-1]\n",
    "#     print(np.mean(grad))\n",
    "\n",
    "# copy the dataframe in case additional analysis is desirable\n",
    "df_gtd = df.copy()\n",
    "\n",
    "# clip the 'mean' error \n",
    "df['mean'] = df['mean'].clip_upper(2)\n",
    "\n",
    "print(\"Minimum error:\")\n",
    "print(df.sort_values('mean').head(1))"
   ]
  },
  {
   "cell_type": "code",
   "execution_count": 12,
   "metadata": {
    "collapsed": false
   },
   "outputs": [
    {
     "data": {
      "text/html": [
       "<div>\n",
       "<table border=\"1\" class=\"dataframe\">\n",
       "  <thead>\n",
       "    <tr style=\"text-align: right;\">\n",
       "      <th></th>\n",
       "      <th>alpha</th>\n",
       "      <th>beta</th>\n",
       "      <th>min</th>\n",
       "      <th>max</th>\n",
       "      <th>mean</th>\n",
       "      <th>std</th>\n",
       "      <th>se</th>\n",
       "    </tr>\n",
       "  </thead>\n",
       "  <tbody>\n",
       "    <tr>\n",
       "      <th>31</th>\n",
       "      <td>0.129155</td>\n",
       "      <td>0.001585</td>\n",
       "      <td>0.015273</td>\n",
       "      <td>0.296002</td>\n",
       "      <td>0.148298</td>\n",
       "      <td>0.062027</td>\n",
       "      <td>0.005065</td>\n",
       "    </tr>\n",
       "    <tr>\n",
       "      <th>50</th>\n",
       "      <td>0.316228</td>\n",
       "      <td>0.000100</td>\n",
       "      <td>0.016901</td>\n",
       "      <td>0.364076</td>\n",
       "      <td>0.149097</td>\n",
       "      <td>0.066107</td>\n",
       "      <td>0.005398</td>\n",
       "    </tr>\n",
       "    <tr>\n",
       "      <th>21</th>\n",
       "      <td>0.129155</td>\n",
       "      <td>0.006310</td>\n",
       "      <td>0.020938</td>\n",
       "      <td>0.340565</td>\n",
       "      <td>0.152195</td>\n",
       "      <td>0.065917</td>\n",
       "      <td>0.005382</td>\n",
       "    </tr>\n",
       "    <tr>\n",
       "      <th>41</th>\n",
       "      <td>0.129155</td>\n",
       "      <td>0.000398</td>\n",
       "      <td>0.004860</td>\n",
       "      <td>0.335134</td>\n",
       "      <td>0.152683</td>\n",
       "      <td>0.063345</td>\n",
       "      <td>0.005172</td>\n",
       "    </tr>\n",
       "    <tr>\n",
       "      <th>51</th>\n",
       "      <td>0.129155</td>\n",
       "      <td>0.000100</td>\n",
       "      <td>0.021979</td>\n",
       "      <td>0.323018</td>\n",
       "      <td>0.155166</td>\n",
       "      <td>0.060522</td>\n",
       "      <td>0.004942</td>\n",
       "    </tr>\n",
       "  </tbody>\n",
       "</table>\n",
       "</div>"
      ],
      "text/plain": [
       "       alpha      beta       min       max      mean       std        se\n",
       "31  0.129155  0.001585  0.015273  0.296002  0.148298  0.062027  0.005065\n",
       "50  0.316228  0.000100  0.016901  0.364076  0.149097  0.066107  0.005398\n",
       "21  0.129155  0.006310  0.020938  0.340565  0.152195  0.065917  0.005382\n",
       "41  0.129155  0.000398  0.004860  0.335134  0.152683  0.063345  0.005172\n",
       "51  0.129155  0.000100  0.021979  0.323018  0.155166  0.060522  0.004942"
      ]
     },
     "execution_count": 12,
     "metadata": {},
     "output_type": "execute_result"
    }
   ],
   "source": [
    "# Sorting by mean instead\n",
    "df.sort_values('mean').head(5)"
   ]
  },
  {
   "cell_type": "code",
   "execution_count": 13,
   "metadata": {
    "collapsed": false
   },
   "outputs": [],
   "source": [
    "# # Error surface (doesn't look right)\n",
    "# from mpl_toolkits.mplot3d import Axes3D\n",
    "# from scipy.interpolate import griddata\n",
    "\n",
    "# new_df = df.copy()\n",
    "# new_df['mean'][new_df['mean'] >= 1] = 0.4\n",
    "# X = new_df['alpha']\n",
    "# Y = new_df['beta']\n",
    "# Z = new_df['mean']\n",
    "# Z[Z > 1] = Z[Z < 1].max()\n",
    "\n",
    "# x1 = np.linspace(X.min(), X.max(), len(X.unique()))\n",
    "# y1 = np.linspace(Y.min(), Y.max(), len(Y.unique()))\n",
    "# x2, y2 = np.meshgrid(x1, y1)\n",
    "# z2 = griddata((X, Y), Z, (x2, y2), method='cubic')\n",
    "\n",
    "\n",
    "# ax = Axes3D(plt.figure())\n",
    "# surf = ax.plot_surface(x2, y2, z2, rstride=1, cstride=1, linewidth=0, antialiased=False, cmap='coolwarm')\n",
    "\n",
    "# ax.view_init(30, 210)\n",
    "# plt.show()"
   ]
  },
  {
   "cell_type": "code",
   "execution_count": 14,
   "metadata": {
    "collapsed": false
   },
   "outputs": [
    {
     "data": {
      "image/png": "[encoded data removed]",
      "text/plain": [
       "<matplotlib.figure.Figure at 0x7fab92ce9780>"
      ]
     },
     "metadata": {},
     "output_type": "display_data"
    }
   ],
   "source": [
    "# Heat map\n",
    "_df = df_gtd.copy()\n",
    "xname = 'beta'\n",
    "yname = 'alpha'\n",
    "\n",
    "aa = np.sort(_df[xname].unique())\n",
    "bb = np.sort(_df[yname].unique())\n",
    "zz = _df['mean']\n",
    "zz[zz > 1] = zz[zz < 1].max()\n",
    "\n",
    "mat = np.zeros((len(aa), len(bb)))\n",
    "for i, a in enumerate(aa):\n",
    "    for j, b in enumerate(bb):\n",
    "        val = zz[(_df[xname] == a) & (_df[yname] == b)].values\n",
    "        mat[i,j] = val.mean()\n",
    "\n",
    "fig, ax = plt.subplots(figsize=(8, 8))\n",
    "cax = ax.imshow(mat.T, interpolation='none', cmap='Reds')\n",
    "\n",
    "# Format the plot\n",
    "ax.set_title('GTD RMSE')\n",
    "ax.set_xlabel(xname)\n",
    "ax.set_ylabel(yname)\n",
    "\n",
    "# X-Axis ticks & labels\n",
    "ax.set_xticks(np.arange(len(aa))-0.5)\n",
    "ax.set_xticklabels([], visible=False)\n",
    "ax.set_xticks(np.arange(len(aa)), minor=True)\n",
    "ax.set_xticklabels([\"{:2.4f}\".format(i) for i in aa], minor=True)\n",
    "\n",
    "# Y-axis\n",
    "ax.set_yticks(np.arange(len(bb))-0.5)\n",
    "ax.set_yticklabels([], visible=False)\n",
    "ax.set_yticks(np.arange(len(bb)), minor=True)\n",
    "ax.set_yticklabels([\"{:2.4f}\".format(i) for i in bb], minor=True, visible=True)\n",
    "\n",
    "# add a colorbar\n",
    "fig.colorbar(cax)\n",
    "\n",
    "plt.tight_layout()\n",
    "plt.show()"
   ]
  },
  {
   "cell_type": "code",
   "execution_count": 15,
   "metadata": {
    "collapsed": false
   },
   "outputs": [],
   "source": [
    "# _df[_df['alpha'] == np.sort(_df['alpha'].unique())[-3]]"
   ]
  },
  {
   "cell_type": "code",
   "execution_count": 16,
   "metadata": {
    "collapsed": false
   },
   "outputs": [
    {
     "data": {
      "image/png": "[encoded data removed]",
      "text/plain": [
       "<matplotlib.figure.Figure at 0x7fab92e610f0>"
      ]
     },
     "metadata": {},
     "output_type": "display_data"
    },
    {
     "data": {
      "image/png": "[encoded data removed]",
      "text/plain": [
       "<matplotlib.figure.Figure at 0x7fab9312e588>"
      ]
     },
     "metadata": {},
     "output_type": "display_data"
    }
   ],
   "source": [
    "# One curve for each value of alpha\n",
    "fig, ax = plt.subplots(1, figsize=(6,6))\n",
    "\n",
    "groups = df.groupby('alpha')\n",
    "for name, group in groups:\n",
    "    length = len(group)\n",
    "    xx = group['beta']\n",
    "    yy = group['mean']\n",
    "    ax.errorbar(xx, yy, fmt='-o')\n",
    "    \n",
    "    # format the graph\n",
    "    ax.set_xscale('log')\n",
    "    ax.set_xlim([xx.min(), xx.max()])\n",
    "    ax.set_ylim([0, 0.4])\n",
    "    \n",
    "# Formatting\n",
    "ax.set_title('GTD RMSE')\n",
    "ax.set_xlabel('beta')\n",
    "ax.set_ylabel('RMSE')\n",
    "    \n",
    "plt.tight_layout()\n",
    "plt.show()\n",
    "\n",
    "# One curve for each value of beta\n",
    "fig, ax = plt.subplots(1, figsize=(6,6))\n",
    "\n",
    "groups = df.groupby('beta')\n",
    "for name, group in groups:\n",
    "    length = len(group)\n",
    "    xx = group['alpha']\n",
    "    yy = group['mean']\n",
    "    ax.errorbar(xx, yy, fmt='-o')\n",
    "    \n",
    "    # format the graph\n",
    "    ax.set_xscale('log')\n",
    "    ax.set_xlim([xx.min(), 1])\n",
    "    ax.set_ylim([0, 0.4])\n",
    "    \n",
    "# Formatting\n",
    "ax.set_title('GTD RMSE')\n",
    "ax.set_xlabel('alpha')\n",
    "ax.set_ylabel('RMSE')\n",
    "    \n",
    "plt.tight_layout()\n",
    "plt.show()"
   ]
  },
  {
   "cell_type": "code",
   "execution_count": 17,
   "metadata": {
    "collapsed": false
   },
   "outputs": [
    {
     "data": {
      "image/png": "[encoded data removed]",
      "text/plain": [
       "<matplotlib.figure.Figure at 0x7fab92fac1d0>"
      ]
     },
     "metadata": {},
     "output_type": "display_data"
    }
   ],
   "source": [
    "# One curve for each value of beta\n",
    "fig, ax = plt.subplots(1, figsize=(6,6))\n",
    "\n",
    "groups = df.groupby('beta')\n",
    "for name, group in groups:\n",
    "    length = len(group)\n",
    "    xx = group['alpha']\n",
    "    yy = group['mean']\n",
    "    yerr = group['std'].values\n",
    "    ax.errorbar(xx, yy, yerr=yerr, fmt='-o')\n",
    "    \n",
    "    # format the graph\n",
    "    ax.set_xscale('log')\n",
    "    ax.set_xlim([xx.min(), 1])\n",
    "    ax.set_ylim([0, 0.4])\n",
    "    \n",
    "# Formatting\n",
    "ax.set_title('GTD RMSE')\n",
    "ax.set_xlabel('alpha')\n",
    "ax.set_ylabel('RMSE')\n",
    "    \n",
    "plt.tight_layout()\n",
    "plt.show()"
   ]
  },
  {
   "cell_type": "code",
   "execution_count": null,
   "metadata": {
    "collapsed": false
   },
   "outputs": [],
   "source": [
    "# avg_errors = np.mean(tail_errors(data, last=50), axis=0)\n",
    "# grad = avg_errors[1:] - avg_errors[0:-1]\n",
    "# print(np.mean(grad))\n",
    "\n",
    "# plt.plot(avg_errors)"
   ]
  },
  {
   "cell_type": "markdown",
   "metadata": {},
   "source": [
    "# GTD2"
   ]
  },
  {
   "cell_type": "code",
   "execution_count": null,
   "metadata": {
    "collapsed": false
   },
   "outputs": [
    {
     "name": "stdout",
     "output_type": "stream",
     "text": [
      "Iterating over parameters...\n",
      "Case #: 4 of 60"
     ]
    }
   ],
   "source": [
    "# GTD2\n",
    "fixed_params = {\n",
    "    'gm': gm_func,\n",
    "    'gm_p': gm_p_func,\n",
    "    'lm': 0.0,\n",
    "    'lm_p': 0.0,\n",
    "    'interest': 1.0,\n",
    "}\n",
    "\n",
    "param_grid = {\n",
    "    'alpha': np.logspace(-0.5, -4, 10),\n",
    "    'beta': np.logspace(-1, -4, 6),\n",
    "}\n",
    "\n",
    "cases = enumerate_params(param_grid)\n",
    "ncases = len(cases)\n",
    "experiment = OffPolicyExperiment(algos.GTD2, env, pol_pi, pol_mu)\n",
    "experiment.set_phi_class(features.RandomBinary, num_features, num_active)\n",
    "\n",
    "df = pd.DataFrame(columns=['alpha', 'beta', 'min', 'max', 'mean', 'std', 'se'])\n",
    "\n",
    "\n",
    "print(\"Iterating over parameters...\")\n",
    "for ix, case in enumerate(cases):\n",
    "    print(\"Case #: {0:d} of {1:d}\".format(ix, ncases), end='\\r')\n",
    "#     print('alpha: {alpha:10.6} {beta:10.6}'.format(**case))\n",
    "    update_params = dict(**fixed_params, **case)\n",
    "    data = experiment.run(num_runs, max_steps, update_params)\n",
    "    \n",
    "    dct = dict()\n",
    "    dct.update(**case)\n",
    "    dct.update(**summarize(data, num_last))\n",
    "    \n",
    "    df = df.append(dct, ignore_index=True)\n",
    "    \n",
    "    # is it still learning?\n",
    "    avg_errors = np.mean(tail_errors(data, last=50), axis=0)\n",
    "    grad = avg_errors[1:] - avg_errors[0:-1]\n",
    "#     print(np.mean(grad))\n",
    "\n",
    "# copy the dataframe in case additional analysis is desirable\n",
    "df_gtd2 = df.copy()\n",
    "\n",
    "# clip the 'mean' error \n",
    "df['mean'] = df['mean'].clip_upper(2)\n",
    "\n",
    "print(\"Minimum error:\")\n",
    "print(df.sort_values('mean').head(1))"
   ]
  },
  {
   "cell_type": "code",
   "execution_count": null,
   "metadata": {
    "collapsed": false
   },
   "outputs": [],
   "source": [
    "df.sort_values('mean').head(5)"
   ]
  },
  {
   "cell_type": "code",
   "execution_count": null,
   "metadata": {
    "collapsed": false
   },
   "outputs": [],
   "source": [
    "# Heat map\n",
    "_df = df_gtd2.copy()\n",
    "xname = 'beta'\n",
    "yname = 'alpha'\n",
    "\n",
    "aa = np.sort(_df[xname].unique())\n",
    "bb = np.sort(_df[yname].unique())\n",
    "zz = _df['mean']\n",
    "zz[zz > 1] = zz[zz < 1].max()\n",
    "\n",
    "mat = np.zeros((len(aa), len(bb)))\n",
    "for i, a in enumerate(aa):\n",
    "    for j, b in enumerate(bb):\n",
    "        val = zz[(_df[xname] == a) & (_df[yname] == b)].values\n",
    "        mat[i,j] = val.mean()\n",
    "\n",
    "fig, ax = plt.subplots(figsize=(8, 8))\n",
    "cax = ax.imshow(mat.T, interpolation='none', cmap='Reds')\n",
    "\n",
    "# Format the plot\n",
    "ax.set_title('GTD2 RMSE')\n",
    "ax.set_xlabel(xname)\n",
    "ax.set_ylabel(yname)\n",
    "\n",
    "# X-Axis ticks & labels\n",
    "ax.set_xticks(np.arange(len(aa))-0.5)\n",
    "ax.set_xticklabels([], visible=False)\n",
    "ax.set_xticks(np.arange(len(aa)), minor=True)\n",
    "ax.set_xticklabels([\"{:2.4f}\".format(i) for i in aa], minor=True)\n",
    "\n",
    "# Y-axis\n",
    "ax.set_yticks(np.arange(len(bb))-0.5)\n",
    "ax.set_yticklabels([], visible=False)\n",
    "ax.set_yticks(np.arange(len(bb)), minor=True)\n",
    "ax.set_yticklabels([\"{:2.4f}\".format(i) for i in bb], minor=True)\n",
    "\n",
    "# add a colorbar\n",
    "fig.colorbar(cax)\n",
    "\n",
    "plt.tight_layout()\n",
    "plt.show()"
   ]
  },
  {
   "cell_type": "code",
   "execution_count": null,
   "metadata": {
    "collapsed": false
   },
   "outputs": [],
   "source": [
    "# One curve for each value of alpha\n",
    "fig, ax = plt.subplots(1, figsize=(6,6))\n",
    "\n",
    "groups = df.groupby('alpha')\n",
    "for name, group in groups:\n",
    "    length = len(group)\n",
    "    xx = group['beta']\n",
    "    yy = group['mean']\n",
    "    ax.errorbar(xx, yy, fmt='-o')\n",
    "    \n",
    "    # format the graph\n",
    "    ax.set_xscale('log')\n",
    "    ax.set_xlim([xx.min(), xx.max()])\n",
    "    ax.set_ylim([0, 0.4])\n",
    "    \n",
    "# Formatting\n",
    "ax.set_title('GTD2 RMSE')\n",
    "ax.set_xlabel('beta')\n",
    "ax.set_ylabel('RMSE')\n",
    "    \n",
    "plt.tight_layout()\n",
    "plt.show()\n",
    "\n",
    "# One curve for each value of beta\n",
    "fig, ax = plt.subplots(1, figsize=(6,6))\n",
    "\n",
    "groups = df.groupby('beta')\n",
    "for name, group in groups:\n",
    "    length = len(group)\n",
    "    xx = group['alpha']\n",
    "    yy = group['mean']\n",
    "    ax.errorbar(xx, yy, fmt='-o')\n",
    "    \n",
    "    # format the graph\n",
    "    ax.set_xscale('log')\n",
    "    ax.set_xlim([xx.min(), 1])\n",
    "    ax.set_ylim([0, 0.4])\n",
    "    \n",
    "# Formatting\n",
    "ax.set_title('GTD2 RMSE')\n",
    "ax.set_xlabel('alpha')\n",
    "ax.set_ylabel('RMSE')\n",
    "    \n",
    "plt.tight_layout()\n",
    "plt.show()"
   ]
  },
  {
   "cell_type": "markdown",
   "metadata": {},
   "source": [
    "# TDC"
   ]
  },
  {
   "cell_type": "code",
   "execution_count": null,
   "metadata": {
    "collapsed": false
   },
   "outputs": [],
   "source": [
    "# TDC\n",
    "fixed_params = {\n",
    "    'gm': gm_func,\n",
    "    'gm_p': gm_p_func,\n",
    "    'lm': 0.0,\n",
    "    'lm_p': 0.0,\n",
    "    'interest': 1.0,\n",
    "}\n",
    "\n",
    "param_grid = {\n",
    "    'alpha': np.logspace(-0.5, -4, 10),\n",
    "    'beta': np.logspace(-1, -4, 6),\n",
    "}\n",
    "\n",
    "cases = enumerate_params(param_grid)\n",
    "ncases = len(cases)\n",
    "experiment = OffPolicyExperiment(algos.TDC, env, pol_pi, pol_mu)\n",
    "experiment.set_phi_class(features.RandomBinary, num_features, num_active)\n",
    "\n",
    "df = pd.DataFrame(columns=['alpha', 'beta', 'min', 'max', 'mean', 'std', 'se'])\n",
    "\n",
    "\n",
    "print(\"Iterating over parameters...\")\n",
    "for ix, case in enumerate(cases):\n",
    "    print(\"Case #: {0:d} of {1:d}\".format(ix, ncases), end='\\r')\n",
    "#     print('alpha: {alpha:10.6} {beta:10.6}'.format(**case))\n",
    "    update_params = dict(**fixed_params, **case)\n",
    "    data = experiment.run(num_runs, max_steps, update_params)\n",
    "    \n",
    "    dct = dict()\n",
    "    dct.update(**case)\n",
    "    dct.update(**summarize(data, num_last))\n",
    "    \n",
    "    df = df.append(dct, ignore_index=True)\n",
    "    \n",
    "    # is it still learning?\n",
    "    avg_errors = np.mean(tail_errors(data, last=50), axis=0)\n",
    "    grad = avg_errors[1:] - avg_errors[0:-1]\n",
    "#     print(np.mean(grad))\n",
    "\n",
    "# copy the dataframe in case additional analysis is desirable\n",
    "df_tdc = df.copy()\n",
    "\n",
    "# clip the 'mean' error \n",
    "df['mean'] = df['mean'].clip_upper(2)\n",
    "\n",
    "print(\"Minimum error:\")\n",
    "print(df.sort_values('mean').head(1))"
   ]
  },
  {
   "cell_type": "code",
   "execution_count": null,
   "metadata": {
    "collapsed": false
   },
   "outputs": [],
   "source": [
    "df.sort_values('mean').head(5)"
   ]
  },
  {
   "cell_type": "code",
   "execution_count": null,
   "metadata": {
    "collapsed": false
   },
   "outputs": [],
   "source": [
    "# Heat map\n",
    "_df = df.copy()\n",
    "xname = 'beta'\n",
    "yname = 'alpha'\n",
    "\n",
    "aa = np.sort(_df[xname].unique())\n",
    "bb = np.sort(_df[yname].unique())\n",
    "zz = _df['mean']\n",
    "zz[zz > 1] = zz[zz < 1].max()\n",
    "\n",
    "mat = np.zeros((len(aa), len(bb)))\n",
    "for i, a in enumerate(aa):\n",
    "    for j, b in enumerate(bb):\n",
    "        val = zz[(_df[xname] == a) & (_df[yname] == b)].values\n",
    "        mat[i,j] = val.mean()\n",
    "\n",
    "fig, ax = plt.subplots(figsize=(8, 8))\n",
    "cax = ax.imshow(mat.T, interpolation='none', cmap='Reds')\n",
    "\n",
    "# Format the plot\n",
    "ax.set_title('TDC RMSE')\n",
    "ax.set_xlabel(xname)\n",
    "ax.set_ylabel(yname)\n",
    "\n",
    "# X-Axis ticks & labels\n",
    "ax.set_xticks(np.arange(len(aa))-0.5)\n",
    "ax.set_xticklabels([], visible=False)\n",
    "ax.set_xticks(np.arange(len(aa))-0.5, minor=True)\n",
    "ax.set_xticklabels([\"{:2.4f}\".format(i) for i in aa], minor=True)\n",
    "\n",
    "# Y-axis\n",
    "ax.set_yticks(np.arange(len(bb))-0.5)\n",
    "ax.set_yticklabels([], visible=False)\n",
    "ax.set_yticks(np.arange(len(bb)), minor=True)\n",
    "ax.set_yticklabels([\"{:2.4f}\".format(i) for i in bb], minor=True)\n",
    "\n",
    "# add a colorbar\n",
    "fig.colorbar(cax)\n",
    "\n",
    "plt.tight_layout()\n",
    "plt.show()"
   ]
  },
  {
   "cell_type": "code",
   "execution_count": null,
   "metadata": {
    "collapsed": false
   },
   "outputs": [],
   "source": [
    "# One curve for each value of alpha\n",
    "fig, ax = plt.subplots(1, figsize=(6,6))\n",
    "\n",
    "groups = df.groupby('alpha')\n",
    "for name, group in groups:\n",
    "    length = len(group)\n",
    "    xx = group['beta']\n",
    "    yy = group['mean']\n",
    "    ax.errorbar(xx, yy, fmt='-o')\n",
    "    \n",
    "    # format the graph\n",
    "    ax.set_xscale('log')\n",
    "    ax.set_xlim([xx.min(), xx.max()])\n",
    "    ax.set_ylim([0, 0.4])\n",
    "    \n",
    "# Formatting\n",
    "ax.set_title('TDC RMSE')\n",
    "ax.set_xlabel('beta')\n",
    "ax.set_ylabel('RMSE')\n",
    "    \n",
    "plt.tight_layout()\n",
    "plt.show()\n",
    "\n",
    "# One curve for each value of beta\n",
    "fig, ax = plt.subplots(1, figsize=(6,6))\n",
    "\n",
    "groups = df.groupby('beta')\n",
    "for name, group in groups:\n",
    "    length = len(group)\n",
    "    xx = group['alpha']\n",
    "    yy = group['mean']\n",
    "    ax.errorbar(xx, yy, fmt='-o')\n",
    "    \n",
    "    # format the graph\n",
    "    ax.set_xscale('log')\n",
    "    ax.set_xlim([xx.min(), 1])\n",
    "    ax.set_ylim([0, 0.4])\n",
    "    \n",
    "# Formatting\n",
    "ax.set_title('TDC RMSE')\n",
    "ax.set_xlabel('alpha')\n",
    "ax.set_ylabel('RMSE')\n",
    "    \n",
    "plt.tight_layout()\n",
    "plt.show()"
   ]
  },
  {
   "cell_type": "markdown",
   "metadata": {},
   "source": [
    "# ETD"
   ]
  },
  {
   "cell_type": "code",
   "execution_count": null,
   "metadata": {
    "collapsed": false
   },
   "outputs": [],
   "source": [
    "# ETD\n",
    "fixed_params = {\n",
    "    'gm': gm_func,\n",
    "    'gm_p': gm_p_func,\n",
    "    'lm': 0.0,\n",
    "    'lm_p': 0.0,\n",
    "    'interest': 1.0,\n",
    "}\n",
    "\n",
    "param_grid = {\n",
    "    'alpha': np.logspace(-1, -4, 10),\n",
    "}\n",
    "\n",
    "cases = enumerate_params(param_grid)\n",
    "ncases = len(cases)\n",
    "experiment = OffPolicyExperiment(algos.ETD, env, pol_pi, pol_mu)\n",
    "experiment.set_phi_class(features.RandomBinary, num_features, num_active)\n",
    "\n",
    "df = pd.DataFrame(columns=['alpha', 'min', 'max', 'mean', 'std', 'se'])\n",
    "\n",
    "for ix, case in enumerate(cases):\n",
    "    print(\"Case #: {0:d} of {1:d}\".format(ix, ncases), end='\\r')\n",
    "    update_params = dict(**fixed_params, **case)\n",
    "    data = experiment.run(num_runs, max_steps, update_params)\n",
    "    \n",
    "    dct = dict()\n",
    "    dct.update(**case)\n",
    "    dct.update(**summarize(data, num_last))\n",
    "    \n",
    "    df = df.append(dct, ignore_index=True)\n",
    "    \n",
    "    # is it still learning?\n",
    "    avg_errors = np.mean(tail_errors(data, last=50), axis=0)\n",
    "    grad = avg_errors[1:] - avg_errors[0:-1]\n",
    "#     print(np.mean(grad))\n",
    "    \n",
    "param_grid = {\n",
    "    'alpha': np.logspace(-0.5, -4, 10),\n",
    "}\n",
    "\n",
    "# copy the dataframe in case additional analysis is desirable\n",
    "df_etd = df.copy()\n",
    "\n",
    "# clip the 'mean' error \n",
    "df['mean'] = df['mean'].clip_upper(2)\n",
    "\n",
    "# the lowest available error\n",
    "print(df.sort_values('mean').head(1))"
   ]
  },
  {
   "cell_type": "code",
   "execution_count": null,
   "metadata": {
    "collapsed": false
   },
   "outputs": [],
   "source": [
    "df.sort_values('mean').head(3)"
   ]
  },
  {
   "cell_type": "code",
   "execution_count": null,
   "metadata": {
    "collapsed": false
   },
   "outputs": [],
   "source": [
    "# _df = df[df['mean'] < 1.0]\n",
    "_df = df.copy() \n",
    "_df = _df.sort_values('alpha')\n",
    "xx = _df['alpha'].values\n",
    "yy = _df['mean'].values\n",
    "yerr = _df['se'].values\n",
    "\n",
    "fig, ax = plt.subplots(figsize=(6,6))\n",
    "ax.errorbar(xx, yy, fmt='-o')\n",
    "ax.set_ylim([0, 0.6])\n",
    "ax.set_xscale('log')\n",
    "\n",
    "# Formatting\n",
    "ax.set_title('ETD RMSE')\n",
    "ax.set_xlabel('alpha')\n",
    "ax.set_ylabel('RMSE')\n",
    "\n",
    "plt.tight_layout()\n",
    "plt.show()"
   ]
  },
  {
   "cell_type": "markdown",
   "metadata": {},
   "source": [
    "# Saving Run Information"
   ]
  },
  {
   "cell_type": "code",
   "execution_count": null,
   "metadata": {
    "collapsed": true
   },
   "outputs": [],
   "source": [
    "store = pd.HDFStore('_off_policy_search.h5', 'w')\n",
    "store['gtd'] = df_gtd\n",
    "store['gtd2'] = df_gtd2\n",
    "store['tdc'] = df_tdc\n",
    "store['etd'] = df_etd\n",
    "store.close()"
   ]
  },
  {
   "cell_type": "markdown",
   "metadata": {},
   "source": [
    "# Export"
   ]
  },
  {
   "cell_type": "code",
   "execution_count": null,
   "metadata": {
    "collapsed": true
   },
   "outputs": [],
   "source": [
    "%%javascript\n",
    "var attribs = document.body.attributes;\n",
    "var cmd = \"theNotebook = \" + \"'\" + attribs['data-notebook-name'].value + \"'\";\n",
    "IPython.notebook.kernel.execute(cmd);"
   ]
  },
  {
   "cell_type": "code",
   "execution_count": null,
   "metadata": {
    "collapsed": true
   },
   "outputs": [],
   "source": [
    "%env __NOTEBOOK_NAME $theNotebook"
   ]
  },
  {
   "cell_type": "code",
   "execution_count": null,
   "metadata": {
    "collapsed": true
   },
   "outputs": [],
   "source": [
    "%%bash\n",
    "echo \"ipython nbconvert --to html \"$__NOTEBOOK_NAME\"\"\n",
    "ipython nbconvert --to html \"$__NOTEBOOK_NAME\""
   ]
  },
  {
   "cell_type": "code",
   "execution_count": null,
   "metadata": {
    "collapsed": true
   },
   "outputs": [],
   "source": []
  }
 ],
 "metadata": {
  "kernelspec": {
   "display_name": "Python 3",
   "language": "python",
   "name": "python3"
  },
  "language_info": {
   "codemirror_mode": {
    "name": "ipython",
    "version": 3
   },
   "file_extension": ".py",
   "mimetype": "text/x-python",
   "name": "python",
   "nbconvert_exporter": "python",
   "pygments_lexer": "ipython3",
   "version": "3.5.0"
  }
 },
 "nbformat": 4,
 "nbformat_minor": 0
}
