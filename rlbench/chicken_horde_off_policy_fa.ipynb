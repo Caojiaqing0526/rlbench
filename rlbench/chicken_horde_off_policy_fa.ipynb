{
 "cells": [
  {
   "cell_type": "code",
   "execution_count": 22,
   "metadata": {
    "collapsed": false
   },
   "outputs": [
    {
     "name": "stdout",
     "output_type": "stream",
     "text": [
      "The autoreload extension is already loaded. To reload it, use:\n",
      "  %reload_ext autoreload\n"
     ]
    }
   ],
   "source": [
    "%load_ext autoreload\n",
    "%autoreload 2\n",
    "\n",
    "%matplotlib inline\n",
    "import matplotlib.pyplot as plt\n",
    "import numpy as np\n",
    "\n",
    "import algos\n",
    "import features\n",
    "import parametric\n",
    "import policy\n",
    "import chicken\n",
    "from agents import HordeAgent\n",
    "from rlbench import *"
   ]
  },
  {
   "cell_type": "code",
   "execution_count": 7,
   "metadata": {
    "collapsed": true
   },
   "outputs": [],
   "source": [
    "def make_agents(algo_lst, target, phi, update_params):\n",
    "    \"\"\"A quick function for making HordeAgent objects from a list \n",
    "    of algorithm classes. Somewhat brittle.\n",
    "    \"\"\"\n",
    "    ret = []\n",
    "    for cls in algo_lst:\n",
    "        algo = cls(phi.length) \n",
    "        params = {k: v for k, v in update_params.items() if k in algo.update_params}\n",
    "        container = HordeAgent(algo, target, phi, params)\n",
    "        ret.append(container)\n",
    "    return ret "
   ]
  },
  {
   "cell_type": "code",
   "execution_count": 19,
   "metadata": {
    "collapsed": false
   },
   "outputs": [],
   "source": [
    "# define the experiment\n",
    "num_states = 8\n",
    "num_features = 8\n",
    "\n",
    "# set up environment\n",
    "env = chicken.Chicken(num_states)\n",
    "\n",
    "# \"true\" values for states\n",
    "true_values = {0: 0.4782968999999999, \n",
    "               1: 0.531441, \n",
    "               2: 0.5904899999999993, \n",
    "               3: 0.6560999999999992, \n",
    "               4: 0.7289999999999992, \n",
    "               5: 0.8099999999999997, \n",
    "               6: 0.8999999999999999, \n",
    "               7: 0.9999999999999998}\n",
    "\n",
    "# set up algorithm parameters\n",
    "state_gamma = {s: 0.9 for s in env.states}\n",
    "state_gamma[0] = 0\n",
    "\n",
    "f_gm = parametric.MapState(state_gamma)\n",
    "f_gm_p = parametric.MapNextState(state_gamma)\n",
    "\n",
    "update_params = {\n",
    "    'alpha': 0.02,\n",
    "    'beta': 0.005,\n",
    "    'gm': f_gm,\n",
    "    'gm_p': f_gm_p,\n",
    "    'lm': 0.0,\n",
    "    'lm_p': 0.0,\n",
    "    'interest': 1.0,\n",
    "}\n",
    "\n",
    "# Define the target policy\n",
    "pol_pi = policy.FixedPolicy({s: {0: 1} for s in env.states})\n",
    "# Define the behavior policy\n",
    "pol_mu = policy.FixedPolicy({s: {0: 1} if s < 4 else {0: 0.5, 1: 0.5} for s in env.states})\n",
    "\n",
    "# set feature mapping\n",
    "phi = features.RandomBinary(num_features, num_features // 2, random_seed=101011)\n",
    "# phi = features.Int2Unary(num_states)\n",
    "\n",
    "\n",
    "# run the experiment\n",
    "max_steps = 1000\n",
    "agent_lst = make_agents([x for x in algos.algo_registry.values()], pol_pi, phi, update_params)\n",
    "data = run_many(agent_lst, pol_mu, env, max_steps)"
   ]
  },
  {
   "cell_type": "code",
   "execution_count": 25,
   "metadata": {
    "collapsed": false
   },
   "outputs": [
    {
     "name": "stdout",
     "output_type": "stream",
     "text": [
      "<class 'algos.GTD2'>\n",
      "0.704496309448\n",
      "<class 'algos.TDC'>\n",
      "0.609349583968\n",
      "<class 'algos.LSTD'>\n",
      "0.622027146307\n",
      "<class 'algos.TD'>\n",
      "0.714806322764\n",
      "<class 'algos.GTD'>\n",
      "0.703004178962\n",
      "<class 'algos.ETD'>\n",
      "0.327433749876\n"
     ]
    }
   ],
   "source": [
    "tvec = dct2vec(true_values)\n",
    "for agent in agent_lst:\n",
    "    print(agent.algo.__class__)\n",
    "    vvec = dct2vec(get_values(env.states, phi, agent.theta))\n",
    "    diff = vvec - tvec\n",
    "    print(np.sqrt(np.mean(diff**2)))\n"
   ]
  },
  {
   "cell_type": "code",
   "execution_count": null,
   "metadata": {
    "collapsed": true
   },
   "outputs": [],
   "source": []
  }
 ],
 "metadata": {
  "kernelspec": {
   "display_name": "Python 3",
   "language": "python",
   "name": "python3"
  },
  "language_info": {
   "codemirror_mode": {
    "name": "ipython",
    "version": 3
   },
   "file_extension": ".py",
   "mimetype": "text/x-python",
   "name": "python",
   "nbconvert_exporter": "python",
   "pygments_lexer": "ipython3",
   "version": "3.4.3"
  }
 },
 "nbformat": 4,
 "nbformat_minor": 0
}
