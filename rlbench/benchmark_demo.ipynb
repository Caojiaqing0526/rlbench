{
 "cells": [
  {
   "cell_type": "code",
   "execution_count": 1,
   "metadata": {
    "collapsed": true
   },
   "outputs": [],
   "source": [
    "%load_ext autoreload\n",
    "%autoreload 2"
   ]
  },
  {
   "cell_type": "code",
   "execution_count": 1,
   "metadata": {
    "collapsed": true
   },
   "outputs": [],
   "source": [
    "%matplotlib inline\n",
    "import matplotlib.pyplot as plt\n",
    "import numpy as np"
   ]
  },
  {
   "cell_type": "code",
   "execution_count": 2,
   "metadata": {
    "collapsed": true
   },
   "outputs": [],
   "source": [
    "import algos\n",
    "import features\n",
    "import parametric\n",
    "import policy\n",
    "import chicken\n",
    "from agents import OffPolicyAgent\n",
    "from rlbench import *"
   ]
  },
  {
   "cell_type": "markdown",
   "metadata": {},
   "source": [
    "# Compare On-Policy LSTD with Every-Visit-MC"
   ]
  },
  {
   "cell_type": "code",
   "execution_count": 3,
   "metadata": {
    "collapsed": false
   },
   "outputs": [],
   "source": [
    "# define the experiment\n",
    "num_states = 8\n",
    "num_features = 8\n",
    "max_steps = 10000\n",
    "\n",
    "# set up environment\n",
    "env = chicken.Chicken(num_states)\n",
    "\n",
    "# set up policy\n",
    "pol_mu = policy.FixedPolicy({s: {0: 1} if s < 4 else {0: 0.5, 1: 0.5} for s in env.states})\n",
    "pol_pi = policy.FixedPolicy({s: {0: 1} if s < 4 else {0: 0.5, 1: 0.5} for s in env.states})\n",
    "\n",
    "# set feature mapping\n",
    "# phi = features.RandomBinary(num_features, num_features // 2, random_seed=101011)\n",
    "phi = features.Int2Unary(num_states)\n",
    "\n",
    "# set up algorithms\n",
    "update_params = {\n",
    "    'alpha': 0.01,\n",
    "    'gm': 0.9,\n",
    "    'gm_p': 0.9,\n",
    "    'lm': 0.0,\n",
    "    'interest': 1.0,\n",
    "}\n",
    "\n",
    "# set up the agents\n",
    "etd = OffPolicyAgent(algos.ETD(phi.length), pol_pi, pol_mu, phi, update_params)\n",
    "lstd = OffPolicyAgent(algos.LSTD(phi.length), pol_pi, pol_mu, phi, update_params)\n",
    "\n",
    "# run both agents through a trajectory\n",
    "etd_steps = run_episode(etd, env, max_steps)\n",
    "lstd_steps = run_episode(lstd, env, max_steps)"
   ]
  },
  {
   "cell_type": "code",
   "execution_count": 4,
   "metadata": {
    "collapsed": false
   },
   "outputs": [],
   "source": [
    "# Compute the value from Every-Visit-MC\n",
    "mc_values = every_visit_mc(lstd_steps, update_params['gm'])\n",
    "lstd_values = lstd.get_values(env.states)\n",
    "etd_values = etd.get_values(env.states)"
   ]
  },
  {
   "cell_type": "code",
   "execution_count": 5,
   "metadata": {
    "collapsed": false
   },
   "outputs": [
    {
     "data": {
      "text/plain": [
       "{0: 0.060673259881757938,\n",
       " 1: 0.067454065018290446,\n",
       " 2: 0.074948961131433831,\n",
       " 3: 0.083276623479370898,\n",
       " 4: 0.092529581643745473,\n",
       " 5: 0.14493194368996215,\n",
       " 6: 0.26236215295236337,\n",
       " 7: 0.53927655149102582}"
      ]
     },
     "execution_count": 5,
     "metadata": {},
     "output_type": "execute_result"
    }
   ],
   "source": [
    "mc_values"
   ]
  },
  {
   "cell_type": "code",
   "execution_count": 6,
   "metadata": {
    "collapsed": false
   },
   "outputs": [
    {
     "data": {
      "text/plain": [
       "{0: 0.059958347625307745,\n",
       " 1: 0.066620386289186179,\n",
       " 2: 0.074022651475614501,\n",
       " 3: 0.082247390576444271,\n",
       " 4: 0.091385989582697849,\n",
       " 5: 0.14490582370706226,\n",
       " 6: 0.27458967798609996,\n",
       " 7: 0.55652661257289682}"
      ]
     },
     "execution_count": 6,
     "metadata": {},
     "output_type": "execute_result"
    }
   ],
   "source": [
    "lstd_values"
   ]
  },
  {
   "cell_type": "code",
   "execution_count": 7,
   "metadata": {
    "collapsed": false
   },
   "outputs": [
    {
     "data": {
      "text/plain": [
       "{0: 0.040777304879992732,\n",
       " 1: 0.044492832067918202,\n",
       " 2: 0.048401911642987065,\n",
       " 3: 0.052802451114220814,\n",
       " 4: 0.06879530470728222,\n",
       " 5: 0.13147839824737265,\n",
       " 6: 0.2423246758775526,\n",
       " 7: 0.72723911963841115}"
      ]
     },
     "execution_count": 7,
     "metadata": {},
     "output_type": "execute_result"
    }
   ],
   "source": [
    "etd_values"
   ]
  },
  {
   "cell_type": "code",
   "execution_count": 8,
   "metadata": {
    "collapsed": true
   },
   "outputs": [],
   "source": [
    "glst = stepwise_return(lstd_steps, update_params['gm'])"
   ]
  },
  {
   "cell_type": "code",
   "execution_count": 9,
   "metadata": {
    "collapsed": false
   },
   "outputs": [
    {
     "data": {
      "text/plain": [
       "1.4304672908526719"
      ]
     },
     "execution_count": 9,
     "metadata": {},
     "output_type": "execute_result"
    }
   ],
   "source": [
    "max(glst)"
   ]
  },
  {
   "cell_type": "code",
   "execution_count": 10,
   "metadata": {
    "collapsed": false
   },
   "outputs": [
    {
     "data": {
      "text/plain": [
       "[<matplotlib.lines.Line2D at 0x7f7b313ce160>]"
      ]
     },
     "execution_count": 10,
     "metadata": {},
     "output_type": "execute_result"
    },
    {
     "data": {
      "image/png": "[encoded data removed]",
      "text/plain": [
       "<matplotlib.figure.Figure at 0x7f7b31606ef0>"
      ]
     },
     "metadata": {},
     "output_type": "display_data"
    }
   ],
   "source": [
    "plt.plot(glst[:300])"
   ]
  },
  {
   "cell_type": "code",
   "execution_count": 11,
   "metadata": {
    "collapsed": true
   },
   "outputs": [],
   "source": [
    "def stepwise_predictions(steps, agent):\n",
    "    return [agent.predict(s) for s in get_states(steps)]"
   ]
  },
  {
   "cell_type": "code",
   "execution_count": 12,
   "metadata": {
    "collapsed": false
   },
   "outputs": [],
   "source": [
    "xdata = [i for i in range(len(lstd_steps))]\n",
    "y_etd = stepwise_predictions(lstd_steps, etd)\n",
    "y_lstd = stepwise_predictions(lstd_steps, lstd)"
   ]
  },
  {
   "cell_type": "code",
   "execution_count": 13,
   "metadata": {
    "collapsed": false
   },
   "outputs": [
    {
     "data": {
      "text/plain": [
       "[<matplotlib.lines.Line2D at 0x7f7b311cfd30>]"
      ]
     },
     "execution_count": 13,
     "metadata": {},
     "output_type": "execute_result"
    },
    {
     "data": {
      "image/png": "[encoded data removed]",
      "text/plain": [
       "<matplotlib.figure.Figure at 0x7f7b3139cda0>"
      ]
     },
     "metadata": {},
     "output_type": "display_data"
    }
   ],
   "source": [
    "fig, ax = plt.subplots()\n",
    "ax.plot(glst[:150])\n",
    "ax.plot(y_etd[:150])\n",
    "ax.plot(y_lstd[:150])"
   ]
  },
  {
   "cell_type": "code",
   "execution_count": null,
   "metadata": {
    "collapsed": true
   },
   "outputs": [],
   "source": []
  }
 ],
 "metadata": {
  "kernelspec": {
   "display_name": "Python 3",
   "language": "python",
   "name": "python3"
  },
  "language_info": {
   "codemirror_mode": {
    "name": "ipython",
    "version": 3
   },
   "file_extension": ".py",
   "mimetype": "text/x-python",
   "name": "python",
   "nbconvert_exporter": "python",
   "pygments_lexer": "ipython3",
   "version": "3.4.3"
  }
 },
 "nbformat": 4,
 "nbformat_minor": 0
}
