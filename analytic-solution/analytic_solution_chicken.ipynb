{
 "cells": [
  {
   "cell_type": "code",
   "execution_count": 4,
   "metadata": {
    "collapsed": false
   },
   "outputs": [
    {
     "name": "stdout",
     "output_type": "stream",
     "text": [
      "The autoreload extension is already loaded. To reload it, use:\n",
      "  %reload_ext autoreload\n"
     ]
    }
   ],
   "source": [
    "%load_ext autoreload\n",
    "%autoreload 2\n",
    "\n",
    "%matplotlib inline\n",
    "import matplotlib.pyplot as plt\n",
    "import numpy as np\n",
    "\n",
    "import algos\n",
    "import features\n",
    "import parametric\n",
    "import policy\n",
    "import chicken\n",
    "from agents import OffPolicyAgent, OnPolicyAgent\n",
    "from rlbench import *\n",
    "\n",
    "from numpy.linalg import pinv"
   ]
  },
  {
   "cell_type": "markdown",
   "metadata": {},
   "source": [
    "$$\n",
    "\\theta = \n",
    "\\left(\n",
    "    \\Phi^{\\top} M \n",
    "    (I - P_{\\pi} \\Lambda \\Gamma )^{-1} \n",
    "    (I - P_{\\pi} \\Gamma ) \n",
    "    \\Phi \n",
    "\\right)^{-1} \n",
    "\\Phi^{\\top} M \n",
    "(I - P_{\\pi} \\Gamma \\Lambda)^{-1} r_{\\pi}\n",
    "$$"
   ]
  },
  {
   "cell_type": "code",
   "execution_count": null,
   "metadata": {
    "collapsed": true
   },
   "outputs": [],
   "source": [
    "# Solve using the matrix formulation\n",
    "ns = 8\n",
    "\n",
    "I = np.eye(ns)\n",
    "# transition matrix\n",
    "P = np.diag(np.ones(ns-1), 1)\n",
    "P[-1][0] = 1\n",
    "# reward vector\n",
    "r = np.zeros((ns,1))\n",
    "r[-1] = 1\n",
    "# gamma matrix\n",
    "G = np.eye(8)*0.9\n",
    "G[0] = 0"
   ]
  }
 ],
 "metadata": {
  "kernelspec": {
   "display_name": "Python 3",
   "language": "python",
   "name": "python3"
  },
  "language_info": {
   "codemirror_mode": {
    "name": "ipython",
    "version": 3
   },
   "file_extension": ".py",
   "mimetype": "text/x-python",
   "name": "python",
   "nbconvert_exporter": "python",
   "pygments_lexer": "ipython3",
   "version": "3.5.0"
  }
 },
 "nbformat": 4,
 "nbformat_minor": 0
}
