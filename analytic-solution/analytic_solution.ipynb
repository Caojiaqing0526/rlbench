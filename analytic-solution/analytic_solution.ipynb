{
 "cells": [
  {
   "cell_type": "code",
   "execution_count": 2,
   "metadata": {
    "collapsed": true
   },
   "outputs": [],
   "source": [
    "%load_ext autoreload\n",
    "%autoreload 2\n",
    "\n",
    "%matplotlib inline\n",
    "import matplotlib.pyplot as plt\n",
    "import numpy as np\n",
    "\n",
    "from numpy import diag, dot\n",
    "from numpy.linalg import pinv"
   ]
  },
  {
   "cell_type": "markdown",
   "metadata": {},
   "source": [
    "The Least Squares (Monte Carlo) Solution\n",
    "$$\n",
    "v_{\\pi} = (I - P_{\\pi} \\Gamma)^{-1} r_{\\pi}\n",
    "$$\n",
    "\n",
    "$$\n",
    "\\Phi \\theta \\approx v_{\\pi} \n",
    "$$\n",
    "\n",
    "$$\n",
    "\\theta_{LS} = (\\Phi^{\\top} D_{\\pi} \\Phi)^{-1} \\Phi^{\\top} D_{\\pi} v_{\\pi}\n",
    "$$\n",
    "\n",
    "\n",
    "The ETD Solution:\n",
    "\n",
    "$$\n",
    "\\theta_{ETD} = \n",
    "\\left(\n",
    "    \\Phi^{\\top} M \n",
    "    (I - P_{\\pi} \\Lambda \\Gamma )^{-1} \n",
    "    (I - P_{\\pi} \\Gamma ) \n",
    "    \\Phi \n",
    "\\right)^{-1} \n",
    "\\Phi^{\\top} M \n",
    "(I - P_{\\pi} \\Gamma \\Lambda)^{-1} r_{\\pi}\n",
    "$$\n",
    "\n",
    "The TD Solution\n",
    "\n",
    "$$\n",
    "\\theta_{TD} = (\\Phi^{\\top} D_{\\pi} (I - P_{\\pi} G) \\Phi)^{-1} \\Phi^{\\top} D_{\\pi} r_{\\pi}\n",
    "$$"
   ]
  },
  {
   "cell_type": "code",
   "execution_count": 3,
   "metadata": {
    "collapsed": true
   },
   "outputs": [],
   "source": [
    "def normalize(array, axis=None):\n",
    "    \"\"\"Normalize an array along an axis.\"\"\"\n",
    "    def _normalize(vec):\n",
    "        return vec/np.sum(vec)\n",
    "    if axis:\n",
    "        return np.apply_along_axis(_normalize, axis, array)\n",
    "    else:\n",
    "        return _normalize(array)\n",
    "\n",
    "def stationary(mat):\n",
    "    \"\"\"Compute the stationary distribution for transition matrix `mat`, via \n",
    "    c omputing the solution to the system of equations (P.T - I)*\\pi = 0. \n",
    "        \n",
    "    NB: Assumes `mat` is ergodic (aperiodic and irreducible).\n",
    "    Could do with LU factorization -- c.f. 54-14 in Handbook of Linear Algebra\n",
    "    \"\"\"\n",
    "    P = (np.copy(mat).T - np.eye(len(mat)))\n",
    "    P[-1,:] = 1\n",
    "    b = np.zeros(len(mat))\n",
    "    b[-1] = 1\n",
    "    x = np.linalg.solve(P, b)\n",
    "    return normalize(x)"
   ]
  },
  {
   "cell_type": "code",
   "execution_count": 18,
   "metadata": {
    "collapsed": false
   },
   "outputs": [],
   "source": [
    "# Number of states\n",
    "ns = 8\n",
    "\n",
    "# Identity matrix\n",
    "I = np.eye(ns)\n",
    "\n",
    "# Define the transition matrix under the target policy\n",
    "P = np.diag(np.ones(ns-1), 1)\n",
    "P[-1,0] = 1\n",
    "P_pi = P\n",
    "\n",
    "# Calculate the stationary distribution under the target policy\n",
    "d_pi = stationary(P).reshape(-1, 1)\n",
    "D_pi = np.diag(d_pi.ravel())\n",
    "\n",
    "# Define the expected reward under the target policy\n",
    "rvec = np.zeros(ns)\n",
    "rvec[-1] = 1\n",
    "\n",
    "# Define the transition matrix under the behavior policy\n",
    "P_mu = np.array([\n",
    "        [0.0, 1, 0, 0, 0, 0, 0, 0],\n",
    "        [0.0, 0, 1, 0, 0, 0, 0, 0],\n",
    "        [0.0, 0, 0, 1, 0, 0, 0, 0],\n",
    "        [0.0, 0, 0, 0, 1, 0, 0, 0],\n",
    "        [0.5, 0, 0, 0, 0, 0.5, 0, 0],\n",
    "        [0.5, 0, 0, 0, 0, 0, 0.5, 0],\n",
    "        [0.5, 0, 0, 0, 0, 0, 0, 0.5],\n",
    "        [1.0, 0, 0, 0, 0, 0, 0, 0],\n",
    "], dtype=np.float)\n",
    "\n",
    "# Calculate the stationary distribution under the behavior policy\n",
    "d_mu = stationary(P_mu).reshape(-1, 1)\n",
    "\n",
    "# Define the interest for each state\n",
    "ivec = np.ones(ns)\n",
    "imat = np.diag(ivec)\n",
    "\n",
    "# Define the gamma matrix\n",
    "gmvec = np.ones(ns) * 0.9\n",
    "gmvec[0] = 0\n",
    "G = np.diag(gmvec)\n",
    "\n",
    "# Define the lambda matrix\n",
    "lmvec = np.zeros(ns)\n",
    "L = np.diag(lmvec)\n",
    "\n",
    "# Define the feature matrix\n",
    "X = np.eye(ns)\n",
    "\n",
    "###############################################################\n",
    "# Solve the emphasis equation\n",
    "###############################################################\n",
    "# Compute the \"warp\" matrix\n",
    "P_lm = I - np.dot(pinv(I - np.dot(P, np.dot(G, L))), (I - np.dot(P, G)))\n",
    "\n",
    "# Compute the emphasis distribution\n",
    "d_i = np.dot(imat, d_mu)\n",
    "mvec = np.dot(d_i.T, np.linalg.pinv(I - P_lm))\n",
    "M = np.diag(mvec.ravel())\n",
    "\n",
    "# Compute \"A\" matrix\n",
    "A = X.T @ M @ (I - P_lm) @ X\n",
    "\n",
    "# Compute \"b\" vector\n",
    "b = X.T @ M @ pinv(I - P @ G @ L) @ rvec\n",
    "\n",
    "# Solve the equation Aw = b\n",
    "w_etd = pinv(A) @ b\n",
    "\n",
    "###############################################################\n",
    "# Solve for the TD solution\n",
    "###############################################################\n",
    "w_td = pinv(X.T @ D_pi @ (I - P_pi @ G) @ X) @ X.T @ D_pi @ rvec\n",
    "\n",
    "\n",
    "###############################################################\n",
    "# Solve for the least-squares solution\n",
    "###############################################################\n",
    "w_ls = pinv(X.T @ D_pi @ X) @ X.T @ D_pi @ pinv(I - P_pi @ G) @ rvec"
   ]
  },
  {
   "cell_type": "code",
   "execution_count": 7,
   "metadata": {
    "collapsed": false
   },
   "outputs": [
    {
     "ename": "ValueError",
     "evalue": "shapes (3,) and (4,) not aligned: 3 (dim 0) != 4 (dim 0)",
     "output_type": "error",
     "traceback": [
      "\u001b[1;31m---------------------------------------------------------------------------\u001b[0m",
      "\u001b[1;31mValueError\u001b[0m                                Traceback (most recent call last)",
      "\u001b[1;32m<ipython-input-7-6f414f7877a4>\u001b[0m in \u001b[0;36m<module>\u001b[1;34m()\u001b[0m\n\u001b[1;32m----> 1\u001b[1;33m \u001b[0mnp\u001b[0m\u001b[1;33m.\u001b[0m\u001b[0mdot\u001b[0m\u001b[1;33m(\u001b[0m\u001b[0mnp\u001b[0m\u001b[1;33m.\u001b[0m\u001b[0mones\u001b[0m\u001b[1;33m(\u001b[0m\u001b[1;36m3\u001b[0m\u001b[1;33m)\u001b[0m\u001b[1;33m,\u001b[0m \u001b[0mnp\u001b[0m\u001b[1;33m.\u001b[0m\u001b[0mones\u001b[0m\u001b[1;33m(\u001b[0m\u001b[1;36m4\u001b[0m\u001b[1;33m)\u001b[0m\u001b[1;33m)\u001b[0m\u001b[1;33m\u001b[0m\u001b[0m\n\u001b[0m",
      "\u001b[1;31mValueError\u001b[0m: shapes (3,) and (4,) not aligned: 3 (dim 0) != 4 (dim 0)"
     ]
    }
   ],
   "source": [
    "np.dot(np.ones(3), np.ones(4))"
   ]
  },
  {
   "cell_type": "code",
   "execution_count": 19,
   "metadata": {
    "collapsed": false
   },
   "outputs": [
    {
     "data": {
      "text/plain": [
       "array([ 0.4782969,  0.531441 ,  0.59049  ,  0.6561   ,  0.729    ,\n",
       "        0.81     ,  0.9      ,  1.       ])"
      ]
     },
     "execution_count": 19,
     "metadata": {},
     "output_type": "execute_result"
    }
   ],
   "source": [
    "w_etd"
   ]
  },
  {
   "cell_type": "code",
   "execution_count": 20,
   "metadata": {
    "collapsed": false
   },
   "outputs": [
    {
     "data": {
      "text/plain": [
       "array([ 0.4782969,  0.531441 ,  0.59049  ,  0.6561   ,  0.729    ,\n",
       "        0.81     ,  0.9      ,  1.       ])"
      ]
     },
     "execution_count": 20,
     "metadata": {},
     "output_type": "execute_result"
    }
   ],
   "source": [
    "w_td"
   ]
  },
  {
   "cell_type": "code",
   "execution_count": 13,
   "metadata": {
    "collapsed": false
   },
   "outputs": [
    {
     "data": {
      "text/plain": [
       "array([ 0.4782969,  0.531441 ,  0.59049  ,  0.6561   ,  0.729    ,\n",
       "        0.81     ,  0.9      ,  1.       ])"
      ]
     },
     "execution_count": 13,
     "metadata": {},
     "output_type": "execute_result"
    }
   ],
   "source": [
    "w_ls"
   ]
  },
  {
   "cell_type": "code",
   "execution_count": 16,
   "metadata": {
    "collapsed": false
   },
   "outputs": [
    {
     "data": {
      "text/plain": [
       "<Container object of 8 artists>"
      ]
     },
     "execution_count": 16,
     "metadata": {},
     "output_type": "execute_result"
    },
    {
     "data": {
      "image/png": "[encoded data removed]",
      "text/plain": [
       "<matplotlib.figure.Figure at 0x7f37f4ddd6a0>"
      ]
     },
     "metadata": {},
     "output_type": "display_data"
    }
   ],
   "source": [
    "plt.bar(np.arange(ns), w_ls)"
   ]
  },
  {
   "cell_type": "code",
   "execution_count": 17,
   "metadata": {
    "collapsed": false
   },
   "outputs": [
    {
     "data": {
      "text/plain": [
       "array([[ 0.125],\n",
       "       [ 0.125],\n",
       "       [ 0.125],\n",
       "       [ 0.125],\n",
       "       [ 0.125],\n",
       "       [ 0.125],\n",
       "       [ 0.125],\n",
       "       [ 0.125]])"
      ]
     },
     "execution_count": 17,
     "metadata": {},
     "output_type": "execute_result"
    }
   ],
   "source": [
    "d_pi"
   ]
  },
  {
   "cell_type": "code",
   "execution_count": 26,
   "metadata": {
    "collapsed": false
   },
   "outputs": [
    {
     "data": {
      "text/plain": [
       "array([[ 1. , -0.9,  0. ,  0. ,  0. ,  0. ,  0. ,  0. ],\n",
       "       [ 0. ,  1. , -0.9,  0. ,  0. ,  0. ,  0. ,  0. ],\n",
       "       [ 0. ,  0. ,  1. , -0.9,  0. ,  0. ,  0. ,  0. ],\n",
       "       [ 0. ,  0. ,  0. ,  1. , -0.9,  0. ,  0. ,  0. ],\n",
       "       [ 0. ,  0. ,  0. ,  0. ,  1. , -0.9,  0. ,  0. ],\n",
       "       [ 0. ,  0. ,  0. ,  0. ,  0. ,  1. , -0.9,  0. ],\n",
       "       [ 0. ,  0. ,  0. ,  0. ,  0. ,  0. ,  1. , -0.9],\n",
       "       [ 0. ,  0. ,  0. ,  0. ,  0. ,  0. ,  0. ,  1. ]])"
      ]
     },
     "execution_count": 26,
     "metadata": {},
     "output_type": "execute_result"
    }
   ],
   "source": [
    "X.T @ (I - P @ G) @ X"
   ]
  },
  {
   "cell_type": "code",
   "execution_count": null,
   "metadata": {
    "collapsed": true
   },
   "outputs": [],
   "source": []
  }
 ],
 "metadata": {
  "kernelspec": {
   "display_name": "Python 3",
   "language": "python",
   "name": "python3"
  },
  "language_info": {
   "codemirror_mode": {
    "name": "ipython",
    "version": 3
   },
   "file_extension": ".py",
   "mimetype": "text/x-python",
   "name": "python",
   "nbconvert_exporter": "python",
   "pygments_lexer": "ipython3",
   "version": "3.5.0"
  }
 },
 "nbformat": 4,
 "nbformat_minor": 0
}
