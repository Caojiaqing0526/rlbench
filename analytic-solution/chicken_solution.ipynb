{
 "cells": [
  {
   "cell_type": "code",
   "execution_count": 1,
   "metadata": {
    "collapsed": false
   },
   "outputs": [],
   "source": [
    "%load_ext autoreload\n",
    "%autoreload 2\n",
    "\n",
    "%matplotlib inline\n",
    "import matplotlib.pyplot as plt\n",
    "\n",
    "import numpy as np\n",
    "import pandas as pd"
   ]
  },
  {
   "cell_type": "code",
   "execution_count": 2,
   "metadata": {
    "collapsed": true
   },
   "outputs": [],
   "source": [
    "from mdpsolver import *"
   ]
  },
  {
   "cell_type": "code",
   "execution_count": 3,
   "metadata": {
    "collapsed": true
   },
   "outputs": [],
   "source": [
    "def random_binary(nrows, ncols, row_sum):\n",
    "    \"\"\"Generate a random binary matrix .\"\"\"\n",
    "    tmp = np.zeros(ncols)\n",
    "    tmp[:row_sum] = 1\n",
    "    ret = np.zeros((nrows, ncols))\n",
    "    for i in range(nrows):\n",
    "        ret[i] = np.random.permutation(tmp)\n",
    "    return ret"
   ]
  },
  {
   "cell_type": "markdown",
   "metadata": {},
   "source": [
    "# Chicken Example -- Off Function Approximation"
   ]
  },
  {
   "cell_type": "markdown",
   "metadata": {},
   "source": [
    "## Lambda=0"
   ]
  },
  {
   "cell_type": "code",
   "execution_count": 4,
   "metadata": {
    "collapsed": false
   },
   "outputs": [],
   "source": [
    "ns = 8\n",
    "states = np.array([i for i in range(ns)])\n",
    "\n",
    "# Target policy transition matrix\n",
    "P_pi = np.diag(np.ones(ns-1), 1)\n",
    "P_pi[-1,0] = 1\n",
    "\n",
    "# Target policy distribution\n",
    "d_pi = stationary(P_pi)\n",
    "\n",
    "# Behavior policy transition matrix\n",
    "P_mu = np.array([\n",
    "        [0.0, 1, 0, 0, 0, 0, 0, 0],\n",
    "        [0.0, 0, 1, 0, 0, 0, 0, 0],\n",
    "        [0.0, 0, 0, 1, 0, 0, 0, 0],\n",
    "        [0.0, 0, 0, 0, 1, 0, 0, 0],\n",
    "        [0.5, 0, 0, 0, 0, 0.5, 0, 0],\n",
    "        [0.5, 0, 0, 0, 0, 0, 0.5, 0],\n",
    "        [0.5, 0, 0, 0, 0, 0, 0, 0.5],\n",
    "        [1.0, 0, 0, 0, 0, 0, 0, 0],\n",
    "], dtype=np.float)\n",
    "\n",
    "# Behavior policy distribution\n",
    "d_mu = stationary(P_mu)\n",
    "\n",
    "# Reward vector under target policy\n",
    "rvec = np.zeros(ns)\n",
    "rvec[-1] = 1\n",
    "\n",
    "# State-dependent parameters\n",
    "gamma = 0.9*np.ones(ns)\n",
    "gamma[0] = 0\n",
    "lmbda = 0.0*np.ones(ns)\n",
    "interest = np.ones(ns)\n",
    "\n",
    "# True values\n",
    "v_true = ls_solver(P_pi, rvec, np.eye(ns), gamma, d=d_pi)"
   ]
  },
  {
   "cell_type": "code",
   "execution_count": 5,
   "metadata": {
    "collapsed": false
   },
   "outputs": [
    {
     "name": "stdout",
     "output_type": "stream",
     "text": [
      "Baseline: RMSE if all values are zero\n",
      "0.258840084292\n"
     ]
    }
   ],
   "source": [
    "print(\"Baseline: RMSE if all values are zero\")\n",
    "print(rmse(v_true, np.zeros_like(v_true), d_pi))"
   ]
  },
  {
   "cell_type": "markdown",
   "metadata": {},
   "source": [
    "### Average errors "
   ]
  },
  {
   "cell_type": "code",
   "execution_count": 6,
   "metadata": {
    "collapsed": false
   },
   "outputs": [
    {
     "name": "stdout",
     "output_type": "stream",
     "text": []
    },
    {
     "data": {
      "text/html": [
       "<div>\n",
       "<table border=\"1\" class=\"dataframe\">\n",
       "  <thead>\n",
       "    <tr style=\"text-align: right;\">\n",
       "      <th></th>\n",
       "      <th>least-squares</th>\n",
       "      <th>TD</th>\n",
       "      <th>ETD</th>\n",
       "    </tr>\n",
       "  </thead>\n",
       "  <tbody>\n",
       "    <tr>\n",
       "      <th>count</th>\n",
       "      <td>5000.000000</td>\n",
       "      <td>5000.000000</td>\n",
       "      <td>5000.000000</td>\n",
       "    </tr>\n",
       "    <tr>\n",
       "      <th>mean</th>\n",
       "      <td>0.032629</td>\n",
       "      <td>0.053695</td>\n",
       "      <td>0.045405</td>\n",
       "    </tr>\n",
       "    <tr>\n",
       "      <th>std</th>\n",
       "      <td>0.012850</td>\n",
       "      <td>0.024412</td>\n",
       "      <td>0.018917</td>\n",
       "    </tr>\n",
       "    <tr>\n",
       "      <th>min</th>\n",
       "      <td>0.001033</td>\n",
       "      <td>0.001573</td>\n",
       "      <td>0.001445</td>\n",
       "    </tr>\n",
       "    <tr>\n",
       "      <th>25%</th>\n",
       "      <td>0.022797</td>\n",
       "      <td>0.035025</td>\n",
       "      <td>0.030656</td>\n",
       "    </tr>\n",
       "    <tr>\n",
       "      <th>50%</th>\n",
       "      <td>0.033088</td>\n",
       "      <td>0.053214</td>\n",
       "      <td>0.046346</td>\n",
       "    </tr>\n",
       "    <tr>\n",
       "      <th>75%</th>\n",
       "      <td>0.042600</td>\n",
       "      <td>0.071489</td>\n",
       "      <td>0.059484</td>\n",
       "    </tr>\n",
       "    <tr>\n",
       "      <th>max</th>\n",
       "      <td>0.060077</td>\n",
       "      <td>0.120615</td>\n",
       "      <td>0.096028</td>\n",
       "    </tr>\n",
       "  </tbody>\n",
       "</table>\n",
       "</div>"
      ],
      "text/plain": [
       "       least-squares           TD          ETD\n",
       "count    5000.000000  5000.000000  5000.000000\n",
       "mean        0.032629     0.053695     0.045405\n",
       "std         0.012850     0.024412     0.018917\n",
       "min         0.001033     0.001573     0.001445\n",
       "25%         0.022797     0.035025     0.030656\n",
       "50%         0.033088     0.053214     0.046346\n",
       "75%         0.042600     0.071489     0.059484\n",
       "max         0.060077     0.120615     0.096028"
      ]
     },
     "execution_count": 6,
     "metadata": {},
     "output_type": "execute_result"
    }
   ],
   "source": [
    "num_trials = 5000\n",
    "phi_length = 6\n",
    "row_sum = 3\n",
    "\n",
    "# Store the values\n",
    "ls_lst = []\n",
    "td_lst = []\n",
    "etd_lst = []\n",
    "\n",
    "for i in range(num_trials):\n",
    "    print(\"Trial: %d\"%i, end=\"\\r\")\n",
    "    \n",
    "    # Feature matrix\n",
    "    X = random_binary(ns, phi_length, row_sum)\n",
    "\n",
    "    # Least-squares solution\n",
    "    w_ls = ls_solver(P_pi, rvec, X, gamma, d=d_pi)\n",
    "    v_ls = np.copy(X @ w_ls)\n",
    "\n",
    "    # TD solution\n",
    "    w_td = td_solver(P_pi, rvec, X, gamma, lmbda, d=d_pi)\n",
    "    v_td = np.copy(X @ w_td)\n",
    "\n",
    "    # ETD solution\n",
    "    w_etd = etd_solver(P_pi, rvec, X, gamma, lmbda, interest, d_pi=d_pi, d_mu=d_mu)\n",
    "    v_etd = np.copy(X @ w_etd)\n",
    "    \n",
    "    # Store the data\n",
    "    ls_lst.append(v_ls)\n",
    "    td_lst.append(v_td)\n",
    "    etd_lst.append(v_etd)\n",
    "\n",
    "# Average the results\n",
    "ls_avg = np.mean(ls_lst, axis=0)\n",
    "td_avg = np.mean(td_lst, axis=0)\n",
    "etd_avg = np.mean(etd_lst, axis=0)\n",
    "\n",
    "# Average the errors\n",
    "ls_errors = pd.Series([rmse(v_true, v, d_pi) for v in ls_lst])\n",
    "td_errors = pd.Series([rmse(v_true, v, d_pi) for v in td_lst])\n",
    "etd_errors = pd.Series([rmse(v_true, v, d_pi) for v in etd_lst])\n",
    "\n",
    "# Describe the data\n",
    "df = pd.DataFrame()\n",
    "df['least-squares'] = ls_errors\n",
    "df['TD'] = td_errors\n",
    "df['ETD'] = etd_errors\n",
    "df.describe()"
   ]
  },
  {
   "cell_type": "code",
   "execution_count": 7,
   "metadata": {
    "collapsed": false
   },
   "outputs": [
    {
     "name": "stdout",
     "output_type": "stream",
     "text": [
      "       least-squares           TD          ETD\n",
      "count    5000.000000  5000.000000  5000.000000\n",
      "mean        0.032629     0.053695     0.045405\n",
      "std         0.012850     0.024412     0.018917\n",
      "min         0.001033     0.001573     0.001445\n",
      "25%         0.022797     0.035025     0.030656\n",
      "50%         0.033088     0.053214     0.046346\n",
      "75%         0.042600     0.071489     0.059484\n",
      "max         0.060077     0.120615     0.096028\n"
     ]
    }
   ],
   "source": [
    "print(df.describe().to_string())"
   ]
  },
  {
   "cell_type": "code",
   "execution_count": 8,
   "metadata": {
    "collapsed": false
   },
   "outputs": [
    {
     "data": {
      "image/png": "[encoded data removed]",
      "text/plain": [
       "<matplotlib.figure.Figure at 0x7f33f871e048>"
      ]
     },
     "metadata": {},
     "output_type": "display_data"
    }
   ],
   "source": [
    "# Plot the results\n",
    "fig, ax = plt.subplots()\n",
    "width = 0.3\n",
    "\n",
    "ax.bar(states, ls_avg, width, color='r')\n",
    "ax.bar(states + width, td_avg, width, color='g')\n",
    "ax.bar(states + 2*width, etd_avg, width, color='b')\n",
    "\n",
    "# formatting \n",
    "ax.set_title('Approximate state values')\n",
    "plt.show()"
   ]
  },
  {
   "cell_type": "code",
   "execution_count": 9,
   "metadata": {
    "collapsed": false
   },
   "outputs": [
    {
     "data": {
      "image/png": "[encoded data removed]",
      "text/plain": [
       "<matplotlib.figure.Figure at 0x7f33f85a5518>"
      ]
     },
     "metadata": {},
     "output_type": "display_data"
    }
   ],
   "source": [
    "# Plot the results\n",
    "fig, ax = plt.subplots()\n",
    "width = 0.3\n",
    "\n",
    "ax.bar(states, ls_avg - v_true, width, color='r')\n",
    "ax.bar(states + width, td_avg - v_true, width, color='g')\n",
    "ax.bar(states + 2*width, etd_avg - v_true, width, color='b')\n",
    "\n",
    "# formatting \n",
    "ax.set_title('Approximate values less true values')\n",
    "plt.show()"
   ]
  },
  {
   "cell_type": "code",
   "execution_count": 10,
   "metadata": {
    "collapsed": false
   },
   "outputs": [
    {
     "name": "stdout",
     "output_type": "stream",
     "text": [
      "Least squares approximation error\n",
      "0.020375153241\n",
      "TD approximation error\n",
      "0.0444149498921\n",
      "ETD approximation error\n",
      "0.0367492071662\n"
     ]
    }
   ],
   "source": [
    "# Average over the values computed for each state\n",
    "print(\"Least squares approximation error\")\n",
    "print(rmse(ls_avg, v_true, d_pi))\n",
    "\n",
    "print(\"TD approximation error\")\n",
    "print(rmse(td_avg, v_true, d_pi))\n",
    "\n",
    "print(\"ETD approximation error\")\n",
    "print(rmse(etd_avg, v_true, d_pi))"
   ]
  },
  {
   "cell_type": "code",
   "execution_count": 11,
   "metadata": {
    "collapsed": false
   },
   "outputs": [
    {
     "data": {
      "image/png": "[encoded data removed]",
      "text/plain": [
       "<matplotlib.figure.Figure at 0x7f33f857b748>"
      ]
     },
     "metadata": {},
     "output_type": "display_data"
    }
   ],
   "source": [
    "# Plot the results\n",
    "fig, ax = plt.subplots()\n",
    "width = 0.3\n",
    "\n",
    "# ax.bar(states, ls_avg - v_true, width, color='r')\n",
    "ax.bar(states + width, td_avg - ls_avg, width, color='g')\n",
    "ax.bar(states + 2*width, etd_avg - ls_avg, width, color='b')\n",
    "\n",
    "# formatting \n",
    "ax.set_title('Approximate values less true values')\n",
    "plt.show()"
   ]
  },
  {
   "cell_type": "code",
   "execution_count": 12,
   "metadata": {
    "collapsed": false
   },
   "outputs": [
    {
     "name": "stdout",
     "output_type": "stream",
     "text": [
      "RMS difference between TD and LS solution\n",
      "0.0355938944627\n",
      "RMS difference between ETD and LS solution\n",
      "0.0226753265473\n"
     ]
    }
   ],
   "source": [
    "print(\"RMS difference between TD and LS solution\")\n",
    "print(rmse(ls_avg, td_avg, d_pi))\n",
    "\n",
    "print(\"RMS difference between ETD and LS solution\")\n",
    "print(rmse(ls_avg, etd_avg, d_pi))"
   ]
  },
  {
   "cell_type": "markdown",
   "metadata": {},
   "source": [
    "## Lambda=1.0"
   ]
  },
  {
   "cell_type": "code",
   "execution_count": 13,
   "metadata": {
    "collapsed": true
   },
   "outputs": [],
   "source": [
    "ns = 8\n",
    "states = np.array([i for i in range(ns)])\n",
    "\n",
    "# Target policy transition matrix\n",
    "P_pi = np.diag(np.ones(ns-1), 1)\n",
    "P_pi[-1,0] = 1\n",
    "\n",
    "# Target policy distribution\n",
    "d_pi = stationary(P_pi)\n",
    "\n",
    "# Behavior policy transition matrix\n",
    "P_mu = np.array([\n",
    "        [0.0, 1, 0, 0, 0, 0, 0, 0],\n",
    "        [0.0, 0, 1, 0, 0, 0, 0, 0],\n",
    "        [0.0, 0, 0, 1, 0, 0, 0, 0],\n",
    "        [0.0, 0, 0, 0, 1, 0, 0, 0],\n",
    "        [0.5, 0, 0, 0, 0, 0.5, 0, 0],\n",
    "        [0.5, 0, 0, 0, 0, 0, 0.5, 0],\n",
    "        [0.5, 0, 0, 0, 0, 0, 0, 0.5],\n",
    "        [1.0, 0, 0, 0, 0, 0, 0, 0],\n",
    "], dtype=np.float)\n",
    "\n",
    "# Behavior policy distribution\n",
    "d_mu = stationary(P_mu)\n",
    "\n",
    "# Reward vector under target policy\n",
    "rvec = np.zeros(ns)\n",
    "rvec[-1] = 1\n",
    "\n",
    "# State-dependent parameters\n",
    "gamma = 0.9*np.ones(ns)\n",
    "gamma[0] = 0\n",
    "lmbda = 1.0*np.ones(ns)\n",
    "interest = np.ones(ns)\n",
    "\n",
    "# True values\n",
    "v_true = ls_solver(P_pi, rvec, np.eye(ns), gamma, d=d_pi)"
   ]
  },
  {
   "cell_type": "code",
   "execution_count": 14,
   "metadata": {
    "collapsed": false
   },
   "outputs": [
    {
     "name": "stdout",
     "output_type": "stream",
     "text": []
    },
    {
     "data": {
      "text/html": [
       "<div>\n",
       "<table border=\"1\" class=\"dataframe\">\n",
       "  <thead>\n",
       "    <tr style=\"text-align: right;\">\n",
       "      <th></th>\n",
       "      <th>least-squares</th>\n",
       "      <th>TD</th>\n",
       "      <th>ETD</th>\n",
       "    </tr>\n",
       "  </thead>\n",
       "  <tbody>\n",
       "    <tr>\n",
       "      <th>count</th>\n",
       "      <td>5000.000000</td>\n",
       "      <td>5000.000000</td>\n",
       "      <td>5000.000000</td>\n",
       "    </tr>\n",
       "    <tr>\n",
       "      <th>mean</th>\n",
       "      <td>0.032392</td>\n",
       "      <td>0.032392</td>\n",
       "      <td>0.039167</td>\n",
       "    </tr>\n",
       "    <tr>\n",
       "      <th>std</th>\n",
       "      <td>0.012978</td>\n",
       "      <td>0.012978</td>\n",
       "      <td>0.016792</td>\n",
       "    </tr>\n",
       "    <tr>\n",
       "      <th>min</th>\n",
       "      <td>0.000818</td>\n",
       "      <td>0.000818</td>\n",
       "      <td>0.000861</td>\n",
       "    </tr>\n",
       "    <tr>\n",
       "      <th>25%</th>\n",
       "      <td>0.022631</td>\n",
       "      <td>0.022631</td>\n",
       "      <td>0.025925</td>\n",
       "    </tr>\n",
       "    <tr>\n",
       "      <th>50%</th>\n",
       "      <td>0.032529</td>\n",
       "      <td>0.032529</td>\n",
       "      <td>0.039101</td>\n",
       "    </tr>\n",
       "    <tr>\n",
       "      <th>75%</th>\n",
       "      <td>0.042725</td>\n",
       "      <td>0.042725</td>\n",
       "      <td>0.052849</td>\n",
       "    </tr>\n",
       "    <tr>\n",
       "      <th>max</th>\n",
       "      <td>0.060025</td>\n",
       "      <td>0.060025</td>\n",
       "      <td>0.077641</td>\n",
       "    </tr>\n",
       "  </tbody>\n",
       "</table>\n",
       "</div>"
      ],
      "text/plain": [
       "       least-squares           TD          ETD\n",
       "count    5000.000000  5000.000000  5000.000000\n",
       "mean        0.032392     0.032392     0.039167\n",
       "std         0.012978     0.012978     0.016792\n",
       "min         0.000818     0.000818     0.000861\n",
       "25%         0.022631     0.022631     0.025925\n",
       "50%         0.032529     0.032529     0.039101\n",
       "75%         0.042725     0.042725     0.052849\n",
       "max         0.060025     0.060025     0.077641"
      ]
     },
     "execution_count": 14,
     "metadata": {},
     "output_type": "execute_result"
    }
   ],
   "source": [
    "num_trials = 5000\n",
    "phi_length = 6\n",
    "row_sum = 3\n",
    "\n",
    "# Store the values\n",
    "ls_lst = []\n",
    "td_lst = []\n",
    "etd_lst = []\n",
    "\n",
    "for i in range(num_trials):\n",
    "    print(\"Trial: %d\"%i, end=\"\\r\")\n",
    "\n",
    "    # Feature matrix\n",
    "    X = random_binary(ns, phi_length, row_sum)\n",
    "\n",
    "    # Least-squares solution\n",
    "    w_ls = ls_solver(P_pi, rvec, X, gamma, d=d_pi)\n",
    "    v_ls = np.copy(X @ w_ls)\n",
    "\n",
    "    # TD solution\n",
    "    w_td = td_solver(P_pi, rvec, X, gamma, lmbda, d=d_pi)\n",
    "    v_td = np.copy(X @ w_td)\n",
    "\n",
    "    # ETD solution\n",
    "    w_etd = etd_solver(P_pi, rvec, X, gamma, lmbda, interest, d_pi=d_pi, d_mu=d_mu)\n",
    "    v_etd = np.copy(X @ w_etd)\n",
    "    \n",
    "    # Store the data\n",
    "    ls_lst.append(v_ls)\n",
    "    td_lst.append(v_td)\n",
    "    etd_lst.append(v_etd)\n",
    "\n",
    "# Average the results\n",
    "ls_avg = np.mean(ls_lst, axis=0)\n",
    "td_avg = np.mean(td_lst, axis=0)\n",
    "etd_avg = np.mean(etd_lst, axis=0)\n",
    "\n",
    "# Average the errors\n",
    "ls_errors = pd.Series([rmse(v_true, v, d_pi) for v in ls_lst])\n",
    "td_errors = pd.Series([rmse(v_true, v, d_pi) for v in td_lst])\n",
    "etd_errors = pd.Series([rmse(v_true, v, d_pi) for v in etd_lst])\n",
    "\n",
    "# Describe the data\n",
    "df = pd.DataFrame()\n",
    "df['least-squares'] = ls_errors\n",
    "df['TD'] = td_errors\n",
    "df['ETD'] = etd_errors\n",
    "df.describe()"
   ]
  },
  {
   "cell_type": "code",
   "execution_count": 15,
   "metadata": {
    "collapsed": false
   },
   "outputs": [
    {
     "data": {
      "image/png": "[encoded data removed]",
      "text/plain": [
       "<matplotlib.figure.Figure at 0x7f33f8445358>"
      ]
     },
     "metadata": {},
     "output_type": "display_data"
    }
   ],
   "source": [
    "# Plot the results\n",
    "fig, ax = plt.subplots()\n",
    "width = 0.3\n",
    "\n",
    "ax.bar(states, ls_avg, width, color='r')\n",
    "ax.bar(states + width, td_avg, width, color='g')\n",
    "ax.bar(states + 2*width, etd_avg, width, color='b')\n",
    "\n",
    "# formatting \n",
    "ax.set_title('Approximate state values')\n",
    "plt.show()"
   ]
  },
  {
   "cell_type": "code",
   "execution_count": 16,
   "metadata": {
    "collapsed": false
   },
   "outputs": [
    {
     "data": {
      "image/png": "[encoded data removed]",
      "text/plain": [
       "<matplotlib.figure.Figure at 0x7f33f840fcf8>"
      ]
     },
     "metadata": {},
     "output_type": "display_data"
    }
   ],
   "source": [
    "# Plot the results\n",
    "fig, ax = plt.subplots()\n",
    "width = 0.3\n",
    "\n",
    "ax.bar(states, ls_avg - v_true, width, color='r')\n",
    "ax.bar(states + width, td_avg - v_true, width, color='g')\n",
    "ax.bar(states + 2*width, etd_avg - v_true, width, color='b')\n",
    "\n",
    "# formatting \n",
    "ax.set_title('Approximate values less true values')\n",
    "plt.show()"
   ]
  },
  {
   "cell_type": "code",
   "execution_count": 17,
   "metadata": {
    "collapsed": false
   },
   "outputs": [
    {
     "name": "stdout",
     "output_type": "stream",
     "text": [
      "Least squares approximation error\n",
      "0.0201701222401\n",
      "TD approximation error\n",
      "0.0201701222401\n",
      "ETD approximation error\n",
      "0.0295863810005\n"
     ]
    }
   ],
   "source": [
    "print(\"Least squares approximation error\")\n",
    "print(rmse(ls_avg, v_true, d_pi))\n",
    "\n",
    "print(\"TD approximation error\")\n",
    "print(rmse(td_avg, v_true, d_pi))\n",
    "\n",
    "print(\"ETD approximation error\")\n",
    "print(rmse(etd_avg, v_true, d_pi))"
   ]
  },
  {
   "cell_type": "code",
   "execution_count": 18,
   "metadata": {
    "collapsed": false
   },
   "outputs": [
    {
     "data": {
      "image/png": "[encoded data removed]",
      "text/plain": [
       "<matplotlib.figure.Figure at 0x7f33f82a96d8>"
      ]
     },
     "metadata": {},
     "output_type": "display_data"
    }
   ],
   "source": [
    "# Plot the results\n",
    "fig, ax = plt.subplots()\n",
    "width = 0.3\n",
    "\n",
    "ax.bar(states + width, td_avg - ls_avg, width, color='g')\n",
    "ax.bar(states + 2*width, etd_avg - ls_avg, width, color='b')\n",
    "\n",
    "# formatting \n",
    "ax.set_title('RMS Difference between LS solution')\n",
    "plt.show()"
   ]
  },
  {
   "cell_type": "code",
   "execution_count": 19,
   "metadata": {
    "collapsed": false
   },
   "outputs": [
    {
     "name": "stdout",
     "output_type": "stream",
     "text": [
      "RMS difference between TD and LS solution\n",
      "1.17756934401e-16\n",
      "RMS difference between ETD and LS solution\n",
      "0.0153947594717\n"
     ]
    }
   ],
   "source": [
    "print(\"RMS difference between TD and LS solution\")\n",
    "print(rmse(ls_avg, td_avg, d_pi))\n",
    "\n",
    "print(\"RMS difference between ETD and LS solution\")\n",
    "print(rmse(ls_avg, etd_avg, d_pi))"
   ]
  },
  {
   "cell_type": "markdown",
   "metadata": {},
   "source": [
    "### Commentary\n",
    "\n",
    "- As expected, with lambda set to one, the solution found by TD is the same as the least squares solution.\n",
    "- On average, emphasis TD seems to diverge from the least-squares solution most in the latter states.\n",
    "    + These states are the ones that will tend to have the highest emphasis\n",
    "    + Sometimes, it appears like the algorithm is trying to get those values right, since they are the ones it is emphasizing.\n",
    "    + This case doesn't seem to be a correction-- when using the on-policy distribution, the difference disappears (as would be expected from following the derivation of ETD)\n",
    "- I do not have a good intuition for why there is less discrepancy towards the \"middle\", that is, about half way between the start state and the \"wall\""
   ]
  },
  {
   "cell_type": "markdown",
   "metadata": {},
   "source": [
    "# Get name of notebook and export it, in a roundabout way"
   ]
  },
  {
   "cell_type": "code",
   "execution_count": 26,
   "metadata": {
    "collapsed": false
   },
   "outputs": [
    {
     "data": {
      "application/javascript": [
       "var attribs = document.body.attributes;\n",
       "var cmd = \"theNotebook = \" + \"'\" + attribs['data-notebook-name'].value + \"'\";\n",
       "IPython.notebook.kernel.execute(cmd);"
      ],
      "text/plain": [
       "<IPython.core.display.Javascript object>"
      ]
     },
     "metadata": {},
     "output_type": "display_data"
    }
   ],
   "source": [
    "%%javascript\n",
    "var attribs = document.body.attributes;\n",
    "var cmd = \"theNotebook = \" + \"'\" + attribs['data-notebook-name'].value + \"'\";\n",
    "IPython.notebook.kernel.execute(cmd);"
   ]
  },
  {
   "cell_type": "code",
   "execution_count": 27,
   "metadata": {
    "collapsed": false
   },
   "outputs": [
    {
     "name": "stdout",
     "output_type": "stream",
     "text": [
      "env: __NOTEBOOK_NAME=chicken_solution.ipynb\n"
     ]
    }
   ],
   "source": [
    "%env __NOTEBOOK_NAME $theNotebook"
   ]
  },
  {
   "cell_type": "code",
   "execution_count": 28,
   "metadata": {
    "collapsed": false
   },
   "outputs": [
    {
     "name": "stdout",
     "output_type": "stream",
     "text": [
      "ipython nbconvert --to html chicken_solution.ipynb\n"
     ]
    },
    {
     "name": "stderr",
     "output_type": "stream",
     "text": [
      "[NbConvertApp] Converting notebook chicken_solution.ipynb to html\n",
      "[NbConvertApp] Writing 307723 bytes to chicken_solution.html\n"
     ]
    }
   ],
   "source": [
    "%%bash\n",
    "echo \"ipython nbconvert --to html \"$__NOTEBOOK_NAME\"\"\n",
    "ipython nbconvert --to html \"$__NOTEBOOK_NAME\""
   ]
  },
  {
   "cell_type": "code",
   "execution_count": null,
   "metadata": {
    "collapsed": true
   },
   "outputs": [],
   "source": []
  }
 ],
 "metadata": {
  "kernelspec": {
   "display_name": "Python 3",
   "language": "python",
   "name": "python3"
  },
  "language_info": {
   "codemirror_mode": {
    "name": "ipython",
    "version": 3
   },
   "file_extension": ".py",
   "mimetype": "text/x-python",
   "name": "python",
   "nbconvert_exporter": "python",
   "pygments_lexer": "ipython3",
   "version": "3.5.0"
  }
 },
 "nbformat": 4,
 "nbformat_minor": 0
}
